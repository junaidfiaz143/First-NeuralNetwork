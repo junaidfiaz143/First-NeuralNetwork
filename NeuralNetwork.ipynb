{
 "cells": [
  {
   "cell_type": "code",
   "execution_count": 1,
   "metadata": {
    "collapsed": true
   },
   "outputs": [],
   "source": [
    "import numpy as nm\n",
    "import matplotlib.pyplot as plt"
   ]
  },
  {
   "cell_type": "code",
   "execution_count": 2,
   "metadata": {
    "collapsed": true
   },
   "outputs": [],
   "source": [
    "data = nm.array([[3, 1.5, 1],\n",
    "                 [2, 1, 0],\n",
    "                 [4, 1.5, 1],\n",
    "                 [3, 1, 0],\n",
    "                 [3.5, .5, 1],\n",
    "                 [2, .5, 0],\n",
    "                 [5.5, 1, 1],\n",
    "                 [1, 1, 0]\n",
    "                 ])\n",
    "\n",
    "mystery_data = [4.5, 1]"
   ]
  },
  {
   "cell_type": "code",
   "execution_count": 3,
   "metadata": {
    "collapsed": true
   },
   "outputs": [],
   "source": [
    "w1 = nm.random.randn()  # get random numbers so we train machine through them\n",
    "w2 = nm.random.randn()\n",
    "b = nm.random.randn()"
   ]
  },
  {
   "cell_type": "code",
   "execution_count": 4,
   "metadata": {},
   "outputs": [
    {
     "name": "stdout",
     "output_type": "stream",
     "text": [
      "before training\n",
      "w1: -1.4678987202115321\n",
      "w2: 0.05707669514617389\n",
      "b: -0.07266949452849651\n"
     ]
    }
   ],
   "source": [
    "print(\"before training\")\n",
    "print(\"w1: \" + str(w1))\n",
    "print(\"w2: \" + str(w2))\n",
    "print(\"b: \" + str(b))"
   ]
  },
  {
   "cell_type": "code",
   "execution_count": 5,
   "metadata": {
    "collapsed": true
   },
   "outputs": [],
   "source": [
    "def NN(m1, w1, m2, w2, b):\n",
    "    z = m1 * w1 + m2 * w2 + b\n",
    "    return sigmoid(z)"
   ]
  },
  {
   "cell_type": "code",
   "execution_count": 6,
   "metadata": {
    "collapsed": true
   },
   "outputs": [],
   "source": [
    "def sigmoid(x):  # sigmoid function for prediction\n",
    "    return 1 / (1 + nm.exp(-x))\n",
    "\n",
    "\n",
    "def sigmoid_p(x):  # to find derivative of x\n",
    "    return sigmoid(x) * (1 - sigmoid(x))"
   ]
  },
  {
   "cell_type": "code",
   "execution_count": 7,
   "metadata": {},
   "outputs": [
    {
     "name": "stdout",
     "output_type": "stream",
     "text": [
      "mystery answer before: 0.0013301440028847397\n"
     ]
    }
   ],
   "source": [
    "z = mystery_data[0] * w1 + mystery_data[1] * w2 + b\n",
    "print(\"mystery answer before: \" + str(NN(mystery_data[0], w1, mystery_data[1], w2, b)))\n",
    "\n",
    "learning_rate = .2"
   ]
  },
  {
   "cell_type": "code",
   "execution_count": 8,
   "metadata": {
    "collapsed": true
   },
   "outputs": [],
   "source": [
    "# training loop\n",
    "for i in range(50000):\n",
    "    ri = nm.random.randint(len(data))\n",
    "    point = data[ri]\n",
    "    # print(point)\n",
    "\n",
    "    z = point[0] * w1 + point[1] * w2 + b\n",
    "    prediction = sigmoid(z)  # our prediction\n",
    "\n",
    "    target = point[2]\n",
    "    cost = nm.square(prediction - target)  # cost\n",
    "\n",
    "    dcost_pred = 2 * (prediction - target)  # slope\n",
    "    dpred_dz = sigmoid_p(z)  # derivative of z\n",
    "\n",
    "    dz_dw1 = point[0]\n",
    "    dz_dw2 = point[1]\n",
    "    dz_db = 1\n",
    "\n",
    "    dcost_dz = dcost_pred * dpred_dz  # slope * derivatives of inputs\n",
    "\n",
    "    dcost_dw1 = dcost_dz * dz_dw1  # partial derivatives\n",
    "    dcost_dw2 = dcost_dz * dz_dw2\n",
    "    dcost_db = dcost_dz * dz_db\n",
    "\n",
    "    w1 = w1 - learning_rate * dcost_dw1\n",
    "    w2 = w2 - learning_rate * dcost_dw2\n",
    "    b = b - learning_rate * dcost_db\n",
    "\n",
    "    # if i % 100 == 0:\n",
    "    #     cost_sum = 0\n",
    "    #     for j in range(len(data)):\n",
    "    #         point = data[j]\n",
    "    #         z = point[0] * w1 + point[1] * w2 + b\n",
    "    #         pred = sigmoid(z)\n",
    "    #\n",
    "    #         target = point[2]\n",
    "    #         cost_sum += nm.square(pred - target)\n",
    "    #\n",
    "    #     costs.append(cost_sum / len(data))\n",
    "#\n",
    "# plt.plot(costs)\n",
    "# plt.show()"
   ]
  },
  {
   "cell_type": "code",
   "execution_count": 9,
   "metadata": {},
   "outputs": [
    {
     "name": "stdout",
     "output_type": "stream",
     "text": [
      "after training\n",
      "w1: 6.98156383652307\n",
      "w2: 3.110551758208748\n",
      "b: -24.348222908669175\n",
      "mystery answer after: 0.9999620561855093\n"
     ]
    },
    {
     "data": {
      "text/plain": [
       "<matplotlib.text.Text at 0x273d49f94a8>"
      ]
     },
     "execution_count": 9,
     "metadata": {},
     "output_type": "execute_result"
    }
   ],
   "source": [
    "print(\"after training\")\n",
    "print(\"w1: \" + str(w1))\n",
    "print(\"w2: \" + str(w2))\n",
    "print(\"b: \" + str(b))\n",
    "\n",
    "z = mystery_data[0] * w1 + mystery_data[1] * w2 + b\n",
    "print(\"mystery answer after: \" + str(NN(mystery_data[0], w1, mystery_data[1], w2, b)))\n",
    "\n",
    "plt.figure('Neural Network')  # set figure name before set data\n",
    "plt.title(\"Linear Regression\")"
   ]
  },
  {
   "cell_type": "code",
   "execution_count": 10,
   "metadata": {},
   "outputs": [
    {
     "name": "stdout",
     "output_type": "stream",
     "text": [
      "red\n",
      "blue\n",
      "red\n",
      "red\n",
      "red\n",
      "blue\n",
      "red\n",
      "blue\n"
     ]
    },
    {
     "data": {
      "image/png": "[encoded data removed]",
      "text/plain": [
       "<matplotlib.figure.Figure at 0x273d29a1550>"
      ]
     },
     "metadata": {},
     "output_type": "display_data"
    }
   ],
   "source": [
    "# seeing model predictions after training\n",
    "for i in range(len(data)):\n",
    "    point = data[i]\n",
    "\n",
    "    # print(point)\n",
    "    z = point[0] * w1 + point[1] + w2 + b\n",
    "    pred = sigmoid(z)\n",
    "    # print(\"pred: {}\".format(pred))\n",
    "\n",
    "    if pred > .5:\n",
    "        print(\"red\")\n",
    "        color = \"r\"\n",
    "    else:\n",
    "        print(\"blue\")\n",
    "        color = \"b\"\n",
    "\n",
    "    plt.scatter(point[0], point[1], c=color)\n",
    "\n",
    "plt.axis([0, 6, 0, 6])\n",
    "plt.plot([2, 6], [0, 6], \"orange\", label=\"Regression Line\")\n",
    "plt.legend()  # enable legends\n",
    "plt.grid()  # enable grid\n",
    "plt.show()\n",
    "\n",
    "# b + w1*point[0]"
   ]
  },
  {
   "cell_type": "code",
   "execution_count": null,
   "metadata": {
    "collapsed": true
   },
   "outputs": [],
   "source": []
  }
 ],
 "metadata": {
  "kernelspec": {
   "display_name": "Python 3",
   "language": "python",
   "name": "python3"
  },
  "language_info": {
   "codemirror_mode": {
    "name": "ipython",
    "version": 3
   },
   "file_extension": ".py",
   "mimetype": "text/x-python",
   "name": "python",
   "nbconvert_exporter": "python",
   "pygments_lexer": "ipython3",
   "version": "3.6.1"
  }
 },
 "nbformat": 4,
 "nbformat_minor": 2
}
